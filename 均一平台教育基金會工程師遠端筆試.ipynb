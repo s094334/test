{
 "cells": [
  {
   "cell_type": "code",
   "execution_count": 34,
   "metadata": {},
   "outputs": [
    {
     "name": "stdout",
     "output_type": "stream",
     "text": [
      "請輸入字串ymedacaiynuj\n"
     ]
    },
    {
     "data": {
      "text/plain": [
       "'junyiacademy'"
      ]
     },
     "execution_count": 34,
     "metadata": {},
     "output_type": "execute_result"
    }
   ],
   "source": [
    "#作答的時間為:13:06-13:51\n",
    "#1A\n",
    "def reverse_A():\n",
    "    a = input(\"請輸入字串\")\n",
    "    a = a[::-1]\n",
    "    return a\n",
    "\n",
    "reverse_A()"
   ]
  },
  {
   "cell_type": "code",
   "execution_count": 36,
   "metadata": {},
   "outputs": [
    {
     "name": "stdout",
     "output_type": "stream",
     "text": [
      "請輸入字串flipped class room is important\n"
     ]
    },
    {
     "data": {
      "text/plain": [
       "'deppilf ssalc moor si tnatropmi'"
      ]
     },
     "execution_count": 36,
     "metadata": {},
     "output_type": "execute_result"
    }
   ],
   "source": [
    "#1B\n",
    "def reverse_B():\n",
    "    b = input(\"請輸入字串\")\n",
    "    b = b[::-1]\n",
    "    list1 = b.split(' ')\n",
    "    list2 = list1.reverse()\n",
    "    final = \" \".join(list1)\n",
    "    return final\n",
    "\n",
    "reverse_B()"
   ]
  },
  {
   "cell_type": "code",
   "execution_count": 41,
   "metadata": {},
   "outputs": [
    {
     "name": "stdout",
     "output_type": "stream",
     "text": [
      "請輸入一個數字15\n",
      "1\n",
      "2\n",
      "4\n",
      "7\n",
      "8\n",
      "11\n",
      "13\n",
      "14\n",
      "15\n"
     ]
    }
   ],
   "source": [
    "#2\n",
    "def right_number():\n",
    "    c = int(input(\"請輸入一個數字\"))\n",
    "    #final = []\n",
    "    for i in range(1,c+1):\n",
    "        if (i%3 != 0) and (i%5 != 0) or ((i%3 == 0)and (i%5 == 0)):\n",
    "            final = i\n",
    "            print(final)\n",
    "   \n",
    "right_number()"
   ]
  },
  {
   "cell_type": "code",
   "execution_count": null,
   "metadata": {},
   "outputs": [],
   "source": [
    "#3\n",
    "A:因為所有袋子標示是錯誤的，因此只會有兩種可能：\n",
    "實際:   鉛筆     原子筆   混合\n",
    "   (1)  原子筆   混合     鉛筆\n",
    "   (2)  混合     鉛筆    原子筆\n",
    "    \n",
    "依照這兩種情況,只要抽取標示混合的袋子：\n",
    "如果抽出來為原子筆,則知道標示原子筆的是鉛筆,標示混合的為鉛筆，\n",
    "如果抽出來為鉛筆，則標示鉛筆的為原子筆，標是原子筆的為混合。\n"
   ]
  },
  {
   "cell_type": "code",
   "execution_count": null,
   "metadata": {},
   "outputs": [],
   "source": [
    "#4\n",
    "不能用三人的錢加上服務生的錢,應該正確加法是:\n",
    "老闆收到750\n",
    "三人付出810\n",
    "服務生私吞60\n",
    "\n",
    "810(三人付出) = 750(老闆收到) + 60(服務生私吞)"
   ]
  }
 ],
 "metadata": {
  "kernelspec": {
   "display_name": "Python 3",
   "language": "python",
   "name": "python3"
  },
  "language_info": {
   "codemirror_mode": {
    "name": "ipython",
    "version": 3
   },
   "file_extension": ".py",
   "mimetype": "text/x-python",
   "name": "python",
   "nbconvert_exporter": "python",
   "pygments_lexer": "ipython3",
   "version": "3.7.6"
  }
 },
 "nbformat": 4,
 "nbformat_minor": 4
}
